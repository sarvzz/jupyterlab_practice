{
 "cells": [
  {
   "cell_type": "markdown",
   "id": "8b30ff29-5af2-47b8-b91e-1c9054bb4bb6",
   "metadata": {},
   "source": [
    "# Sarvi Loloei\n",
    "Notebook for assignment 7"
   ]
  },
  {
   "cell_type": "code",
   "execution_count": 1,
   "id": "e8e76827-47da-4457-85bf-4d3e76f0b967",
   "metadata": {
    "tags": []
   },
   "outputs": [
    {
     "name": "stdout",
     "output_type": "stream",
     "text": [
      "5.0\n"
     ]
    }
   ],
   "source": [
    "def compute_mean(values):\n",
    "    total = sum(values)\n",
    "    mean = total / len(values)\n",
    "    print(mean)\n",
    "\n",
    "compute_mean([2, 4, 6, 8])"
   ]
  },
  {
   "cell_type": "markdown",
   "id": "a9167418-a47f-4745-b0b0-f39e39c02910",
   "metadata": {},
   "source": [
    "The code cell above contains a Python function `compute_mean` that calculates the mean of a list of values and prints the result. \n",
    "This function takes a list of values as an input and performs the following steps:\n",
    "\n",
    "1. It calculates the sum of the values in the list using the `sum()` function and assigns it to the variable `total`.\n",
    "2. It divides the `total` by the length of the list using the `/` operator and assigns the result to the variable `mean`.\n",
    "3. Finally, it prints the value of `mean` using the `print()` function.\n"
   ]
  },
  {
   "cell_type": "markdown",
   "id": "fa9578ed-87aa-4bbf-8b74-2fb535862088",
   "metadata": {
    "tags": []
   },
   "source": [
    "\n",
    "$$\n",
    "\\bar{x}=\\frac{{x_1 + x_2 + \\ldots + x_n}}{{n}} = \\frac{1}{n}\\big(\\Sigma_{i=1}^{n} {x_i}\\big)\n",
    "$$\n"
   ]
  },
  {
   "cell_type": "code",
   "execution_count": null,
   "id": "7d9498ce-a5c8-463e-9589-0ef729561305",
   "metadata": {},
   "outputs": [],
   "source": []
  }
 ],
 "metadata": {
  "kernelspec": {
   "display_name": "Python 3 (ipykernel)",
   "language": "python",
   "name": "python3"
  },
  "language_info": {
   "codemirror_mode": {
    "name": "ipython",
    "version": 3
   },
   "file_extension": ".py",
   "mimetype": "text/x-python",
   "name": "python",
   "nbconvert_exporter": "python",
   "pygments_lexer": "ipython3",
   "version": "3.10.11"
  }
 },
 "nbformat": 4,
 "nbformat_minor": 5
}
